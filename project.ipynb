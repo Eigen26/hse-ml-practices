{
 "cells": [
  {
   "cell_type": "code",
   "execution_count": 1,
   "id": "31b2ec86",
   "metadata": {},
   "outputs": [],
   "source": [
    "from sklearn.model_selection import train_test_split\n",
    "import numpy as np\n",
    "import matplotlib.pyplot as plt\n",
    "\n",
    "sign = lambda x: (2 * (x >= 0) - 1) * (x != 0)"
   ]
  },
  {
   "cell_type": "code",
   "execution_count": 2,
   "id": "d4c09e9e",
   "metadata": {},
   "outputs": [],
   "source": [
    "def read_data(path=\"boston.csv\"):\n",
    "    dataframe = np.genfromtxt(path, delimiter=\",\", skip_header=15)\n",
    "    np.random.seed(42)\n",
    "    np.random.shuffle(dataframe)\n",
    "    X = dataframe[:, :-1]\n",
    "    y = dataframe[:, -1]\n",
    "    return X, y"
   ]
  },
  {
   "cell_type": "code",
   "execution_count": 3,
   "id": "2ef58883",
   "metadata": {},
   "outputs": [],
   "source": [
    "def mse(y_true, y_predicted):\n",
    "    return sum((y_true - y_predicted) ** 2) / len(y_true)\n",
    "\n",
    "def r2(y_true, y_predicted):\n",
    "    u = sum((y_true - y_predicted) ** 2)\n",
    "    v = sum((y_true - np.mean(y_true)) ** 2)\n",
    "    return 1 - u / v"
   ]
  },
  {
   "cell_type": "code",
   "execution_count": 4,
   "id": "4e6a694e",
   "metadata": {},
   "outputs": [],
   "source": [
    "class NormalLR:\n",
    "    \n",
    "    def fit(self, X:np.ndarray, y:np.ndarray):\n",
    "        n, k = X.shape\n",
    "        X = np.insert(X, [k], [[1] for i in range(n)], 1)\n",
    "        self.w = np.linalg.inv(np.dot(X.T, X)).dot(X.T).dot(y)\n",
    "    \n",
    "    def predict(self, X:np.ndarray) -> np.ndarray:\n",
    "        return np.dot(X, self.w[:-1]) + self.w[-1]"
   ]
  },
  {
   "cell_type": "code",
   "execution_count": 5,
   "id": "33078429",
   "metadata": {},
   "outputs": [],
   "source": [
    "class GradientLR:  # линейная регрессия с L1-регуляризацией, где веса оптимизируются градиентным спуском\n",
    "    \n",
    "    def __init__(self, alpha:float, iterations=10000, l=0.):\n",
    "        self.alpha = alpha\n",
    "        self.iterations = iterations\n",
    "        self.l = l\n",
    "        self.w = None\n",
    "    \n",
    "    def gradient(self, X:np.ndarray, y:np.ndarray):  # считает градиент MSE\n",
    "        n, k = X.shape\n",
    "        grad = np.zeros(k)\n",
    "        for ind in range(k):\n",
    "            for i in range(n):\n",
    "                grad[ind] += X[i][ind] * (np.dot(self.w.T, X[i]) - y[i])\n",
    "            grad[ind] *= 2\n",
    "            grad[ind] += self.l * sign(self.w[ind])\n",
    "        return grad\n",
    "    \n",
    "    def fit(self, X:np.ndarray, y:np.ndarray):\n",
    "        n, k = X.shape\n",
    "        X = np.insert(X, [k], [[1] for i in range(n)], 1)\n",
    "        self.w = np.zeros(k + 1)\n",
    "        for _ in range(self.iterations):\n",
    "            self.w -= self.alpha * self.gradient(X, y)\n",
    "        \n",
    "    def predict(self, X:np.ndarray):\n",
    "        return np.dot(X, self.w[:-1]) + self.w[-1]"
   ]
  },
  {
   "cell_type": "code",
   "execution_count": 6,
   "id": "f219e6a6",
   "metadata": {},
   "outputs": [],
   "source": [
    "def build_plot(X_train, y_train, X_test, y_test, left=0.0, right=0.5, step=0.001, l_rate=0.001, iterat=100):  # график зависимости mse от l\n",
    "    xs = np.arange(left, right + step, step)\n",
    "    errors = []\n",
    "    for x in xs:\n",
    "        regr = GradientLR(l_rate, iterations=iterat, l=x)\n",
    "        regr.fit(X_train, y_train)\n",
    "        errors.append(mse(y_test, regr.predict(X_test)))\n",
    "    plt.plot(xs, errors)\n",
    "    plt.show()"
   ]
  },
  {
   "cell_type": "code",
   "execution_count": 7,
   "id": "b82d2074",
   "metadata": {},
   "outputs": [],
   "source": [
    "# Считываем датасет 'boston.csv'\n",
    "\n",
    "X, y = read_data()\n",
    "X_train, X_test, y_train, y_test = train_test_split(X, y, train_size=0.8, shuffle=False)"
   ]
  },
  {
   "cell_type": "code",
   "execution_count": 8,
   "id": "8a59ba3b",
   "metadata": {},
   "outputs": [],
   "source": [
    "# Стандартизация X_train, y_train\n",
    "\n",
    "n, k = X.shape\n",
    "m = np.zeros(k + 1); st = np.zeros(k + 1)\n",
    "for i in range(k):\n",
    "    m[i] = X_train[:, i].mean()\n",
    "    X_train[:, i] -= m[i]\n",
    "    st[i] = X_train[:, i].std()\n",
    "    X_train[:, i] /= st[i]\n",
    "\n",
    "m[k] = y_train.mean()\n",
    "y_train -= m[k]\n",
    "st[k] = y_train.std()\n",
    "y_train /= st[k]"
   ]
  },
  {
   "cell_type": "code",
   "execution_count": 9,
   "id": "413e2d26",
   "metadata": {},
   "outputs": [],
   "source": [
    "# Стандартизация X_test, y_test \n",
    "\n",
    "for i in range(k):\n",
    "    X_test[:, i] -= m[i]\n",
    "    X_test[:, i] /= st[i]\n",
    "    \n",
    "y_test -= m[k]\n",
    "y_test /= st[k]"
   ]
  },
  {
   "cell_type": "code",
   "execution_count": 10,
   "id": "83253886",
   "metadata": {},
   "outputs": [
    {
     "name": "stdout",
     "output_type": "stream",
     "text": [
      "MSE: 0.2537384248924287, R2: 0.6872797475661053\n"
     ]
    }
   ],
   "source": [
    "# Обучение и тестирование обычной линейной регрессии на датасете 'boston.csv'\n",
    "\n",
    "regr1 = NormalLR()\n",
    "regr1.fit(X_train, y_train)\n",
    "y_pred = regr1.predict(X_test)\n",
    "print(f\"MSE: {mse(y_test, y_pred)}, R2: {r2(y_test, y_pred)}\")"
   ]
  },
  {
   "cell_type": "code",
   "execution_count": 11,
   "id": "b4e0b64b",
   "metadata": {},
   "outputs": [
    {
     "name": "stdout",
     "output_type": "stream",
     "text": [
      "MSE: 0.25341358206673975, R2: 0.6876801005299651\n",
      "CPU times: user 1min 23s, sys: 527 ms, total: 1min 23s\n",
      "Wall time: 1min 23s\n"
     ]
    }
   ],
   "source": [
    "%%time\n",
    "# Обучение и тестирование линейной регрессии с L1-регуляризацией на датасете 'boston.csv'\n",
    "regr2 = GradientLR(0.0001, iterations=1000, l=0.2)\n",
    "regr2.fit(X_train, y_train)\n",
    "y_pred = regr2.predict(X_test)\n",
    "print(f\"MSE: {mse(y_test, y_pred)}, R2: {r2(y_test, y_pred)}\")"
   ]
  },
  {
   "cell_type": "code",
   "execution_count": 12,
   "id": "681f0571",
   "metadata": {},
   "outputs": [
    {
     "data": {
      "image/png": "[encoded data removed]",
      "text/plain": [
       "<Figure size 432x288 with 1 Axes>"
      ]
     },
     "metadata": {
      "needs_background": "light"
     },
     "output_type": "display_data"
    },
    {
     "name": "stdout",
     "output_type": "stream",
     "text": [
      "CPU times: user 10min 56s, sys: 1.33 s, total: 10min 57s\n",
      "Wall time: 10min 58s\n"
     ]
    }
   ],
   "source": [
    "%%time\n",
    "# Зависимость качества линейной модели в зависимости от параметра L1-регуляризации на датасете 'boston.csv'\n",
    "build_plot(X_train, y_train, X_test, y_test, right=2, step=0.025, l_rate=0.0001)"
   ]
  },
  {
   "cell_type": "code",
   "execution_count": 16,
   "id": "47e84f77",
   "metadata": {},
   "outputs": [
    {
     "name": "stdout",
     "output_type": "stream",
     "text": [
      "Процент низкого статуса населения : -0.42715045045466454\n",
      "Взвешенное расстояние до пяти главных бостонских центров трудоустройства : -0.3507840513022463\n",
      "Полная ставка налога на имущество (на 10 долларов США) : -0.26189989038157857\n",
      "Концентрация оксидов азота : -0.21412570942468168\n",
      "Соотношение ученик/учитель на район : -0.20986569102242114\n",
      "Уровень преступности на душу населения : -0.10102289475053695\n",
      "Доля акров на район, не связанных с розничной торговлей : -0.014638081264638149\n",
      "Доля жилых домов, построенных до 1940 года : 0.031506602783543836\n",
      "Наличие границы с рекой : 0.06298855912161305\n",
      "Величина 1000*(Bk - 0.63)^2, где Bk- доля чернокожего населения на район : 0.08513042915023201\n",
      "Доля жилой земли, выделенной для участков площадью более 25000 кв. футов : 0.13524571580031575\n",
      "Среднее количество комнат на жильё : 0.27810465800999984\n",
      "Индекс доступности радиальных магистралей : 0.3051986739969367\n",
      "Ожидаемая стоимость жилья: 22505.693069306933\n"
     ]
    }
   ],
   "source": [
    "names = ['Уровень преступности на душу населения',\n",
    "         'Доля жилой земли, выделенной для участков площадью более 25000 кв. футов',\n",
    "         'Доля акров на район, не связанных с розничной торговлей',\n",
    "         'Наличие границы с рекой',\n",
    "         'Концентрация оксидов азота',\n",
    "         'Среднее количество комнат на жильё',\n",
    "         'Доля жилых домов, построенных до 1940 года',\n",
    "         'Взвешенное расстояние до пяти главных бостонских центров трудоустройства',\n",
    "         'Индекс доступности радиальных магистралей',\n",
    "         'Полная ставка налога на имущество (на 10 долларов США)',\n",
    "         'Соотношение ученик/учитель на район',\n",
    "         'Величина 1000*(Bk - 0.63)^2, где Bk- доля чернокожего населения на район',\n",
    "         'Процент низкого статуса населения']\n",
    "\n",
    "for i in range(len(names)):\n",
    "    names[i] = (names[i], regr1.w[i])\n",
    "\n",
    "sorted_names = sorted(names, key = lambda a: a[1])\n",
    "for name, val in sorted_names:\n",
    "    print(name, ':', val)\n",
    "\n",
    "print(f'Ожидаемая стоимость жилья: {regr1.w[-1] * st[-1] + m[-1]}')"
   ]
  },
  {
   "cell_type": "code",
   "execution_count": 17,
   "id": "c9b2e2ad",
   "metadata": {},
   "outputs": [
    {
     "name": "stdout",
     "output_type": "stream",
     "text": [
      "Процент низкого статуса населения : -0.4267235015345439\n",
      "Взвешенное расстояние до пяти главных бостонских центров трудоустройства : -0.3495498053093016\n",
      "Полная ставка налога на имущество (на 10 долларов США) : -0.2568566320238581\n",
      "Концентрация оксидов азота : -0.2127078701868529\n",
      "Соотношение ученик/учитель на район : -0.20943451857153664\n",
      "Уровень преступности на душу населения : -0.10022541101834645\n",
      "Доля акров на район, не связанных с розничной торговлей : -0.01564882253382383\n",
      "Доля жилых домов, построенных до 1940 года : 0.03031538404673457\n",
      "Наличие границы с рекой : 0.06302781372284727\n",
      "Величина 1000*(Bk - 0.63)^2, где Bk- доля чернокожего населения на район : 0.08491294307673358\n",
      "Доля жилой земли, выделенной для участков площадью более 25000 кв. футов : 0.13399107109433758\n",
      "Среднее количество комнат на жильё : 0.27871277503818737\n",
      "Индекс доступности радиальных магистралей : 0.29992051678244563\n",
      "Ожидаемая стоимость жилья: 22505.595448863285\n"
     ]
    }
   ],
   "source": [
    "names = ['Уровень преступности на душу населения',\n",
    "         'Доля жилой земли, выделенной для участков площадью более 25000 кв. футов',\n",
    "         'Доля акров на район, не связанных с розничной торговлей',\n",
    "         'Наличие границы с рекой',\n",
    "         'Концентрация оксидов азота',\n",
    "         'Среднее количество комнат на жильё',\n",
    "         'Доля жилых домов, построенных до 1940 года',\n",
    "         'Взвешенное расстояние до пяти главных бостонских центров трудоустройства',\n",
    "         'Индекс доступности радиальных магистралей',\n",
    "         'Полная ставка налога на имущество (на 10 долларов США)',\n",
    "         'Соотношение ученик/учитель на район',\n",
    "         'Величина 1000*(Bk - 0.63)^2, где Bk- доля чернокожего населения на район',\n",
    "         'Процент низкого статуса населения']\n",
    "\n",
    "for i in range(len(names)):\n",
    "    names[i] = (names[i], regr2.w[i])\n",
    "\n",
    "sorted_names = sorted(names, key = lambda a: a[1])\n",
    "for name, val in sorted_names:\n",
    "    print(name, ':', val)\n",
    "\n",
    "print(f'Ожидаемая стоимость жилья: {regr2.w[-1] * st[-1] + m[-1]}')"
   ]
  },
  {
   "cell_type": "code",
   "execution_count": null,
   "id": "59246133",
   "metadata": {},
   "outputs": [],
   "source": []
  }
 ],
 "metadata": {
  "kernelspec": {
   "display_name": "Python 3 (ipykernel)",
   "language": "python",
   "name": "python3"
  },
  "language_info": {
   "codemirror_mode": {
    "name": "ipython",
    "version": 3
   },
   "file_extension": ".py",
   "mimetype": "text/x-python",
   "name": "python",
   "nbconvert_exporter": "python",
   "pygments_lexer": "ipython3",
   "version": "3.8.10"
  }
 },
 "nbformat": 4,
 "nbformat_minor": 5
}
